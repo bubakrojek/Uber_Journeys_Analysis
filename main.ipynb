{
 "cells": [
  {
   "metadata": {},
   "cell_type": "raw",
   "source": "Analiza Podróży użytkownika usługi Uber",
   "id": "889947d5aec6e4ae"
  },
  {
   "metadata": {},
   "cell_type": "markdown",
   "source": "Import i instalacja potrzebnych pakietów",
   "id": "24d2aaccdc2eaabf"
  },
  {
   "metadata": {
    "collapsed": true
   },
   "cell_type": "code",
   "source": [
    "import os\n",
    "! pip install kagglehub\n",
    "! pip install pandas\n",
    "! pip install matplotlib\n",
    "! pip install seaborn\n",
    "\n",
    "import pandas as pd\n",
    "import seaborn as sns\n",
    "import kagglehub\n",
    "import matplotlib.pyplot as plt\n",
    "\n"
   ],
   "id": "initial_id",
   "outputs": [],
   "execution_count": null
  },
  {
   "metadata": {},
   "cell_type": "markdown",
   "source": "Wprowadzamy plik CSV",
   "id": "9df7a3541da93566"
  },
  {
   "metadata": {
    "ExecuteTime": {
     "end_time": "2025-08-01T12:02:36.175340Z",
     "start_time": "2025-08-01T12:02:35.595790Z"
    }
   },
   "cell_type": "code",
   "source": [
    "path = kagglehub.dataset_download(\"zusmani/uberdrives\")\n",
    "\n",
    "uber_data=pd.read_csv(os.path.join(path,'My Uber Drives - 2016.csv'))\n",
    "pd.set_option('display.width',500)\n"
   ],
   "id": "fb3088bad17c94d",
   "outputs": [],
   "execution_count": 2
  },
  {
   "metadata": {},
   "cell_type": "markdown",
   "source": "Wstępny wgląd w dane.",
   "id": "c16bd40cabfba0d5"
  },
  {
   "metadata": {
    "ExecuteTime": {
     "end_time": "2025-08-01T12:02:37.638881Z",
     "start_time": "2025-08-01T12:02:37.614470Z"
    }
   },
   "cell_type": "code",
   "source": "uber_data.head()",
   "id": "c735a1f9470c0537",
   "outputs": [
    {
     "data": {
      "text/plain": [
       "      START_DATE*       END_DATE* CATEGORY*       START*            STOP*  MILES*         PURPOSE*\n",
       "0  1/1/2016 21:11  1/1/2016 21:17  Business  Fort Pierce      Fort Pierce     5.1   Meal/Entertain\n",
       "1   1/2/2016 1:25   1/2/2016 1:37  Business  Fort Pierce      Fort Pierce     5.0              NaN\n",
       "2  1/2/2016 20:25  1/2/2016 20:38  Business  Fort Pierce      Fort Pierce     4.8  Errand/Supplies\n",
       "3  1/5/2016 17:31  1/5/2016 17:45  Business  Fort Pierce      Fort Pierce     4.7          Meeting\n",
       "4  1/6/2016 14:42  1/6/2016 15:49  Business  Fort Pierce  West Palm Beach    63.7   Customer Visit"
      ],
      "text/html": [
       "<div>\n",
       "<style scoped>\n",
       "    .dataframe tbody tr th:only-of-type {\n",
       "        vertical-align: middle;\n",
       "    }\n",
       "\n",
       "    .dataframe tbody tr th {\n",
       "        vertical-align: top;\n",
       "    }\n",
       "\n",
       "    .dataframe thead th {\n",
       "        text-align: right;\n",
       "    }\n",
       "</style>\n",
       "<table border=\"1\" class=\"dataframe\">\n",
       "  <thead>\n",
       "    <tr style=\"text-align: right;\">\n",
       "      <th></th>\n",
       "      <th>START_DATE*</th>\n",
       "      <th>END_DATE*</th>\n",
       "      <th>CATEGORY*</th>\n",
       "      <th>START*</th>\n",
       "      <th>STOP*</th>\n",
       "      <th>MILES*</th>\n",
       "      <th>PURPOSE*</th>\n",
       "    </tr>\n",
       "  </thead>\n",
       "  <tbody>\n",
       "    <tr>\n",
       "      <th>0</th>\n",
       "      <td>1/1/2016 21:11</td>\n",
       "      <td>1/1/2016 21:17</td>\n",
       "      <td>Business</td>\n",
       "      <td>Fort Pierce</td>\n",
       "      <td>Fort Pierce</td>\n",
       "      <td>5.1</td>\n",
       "      <td>Meal/Entertain</td>\n",
       "    </tr>\n",
       "    <tr>\n",
       "      <th>1</th>\n",
       "      <td>1/2/2016 1:25</td>\n",
       "      <td>1/2/2016 1:37</td>\n",
       "      <td>Business</td>\n",
       "      <td>Fort Pierce</td>\n",
       "      <td>Fort Pierce</td>\n",
       "      <td>5.0</td>\n",
       "      <td>NaN</td>\n",
       "    </tr>\n",
       "    <tr>\n",
       "      <th>2</th>\n",
       "      <td>1/2/2016 20:25</td>\n",
       "      <td>1/2/2016 20:38</td>\n",
       "      <td>Business</td>\n",
       "      <td>Fort Pierce</td>\n",
       "      <td>Fort Pierce</td>\n",
       "      <td>4.8</td>\n",
       "      <td>Errand/Supplies</td>\n",
       "    </tr>\n",
       "    <tr>\n",
       "      <th>3</th>\n",
       "      <td>1/5/2016 17:31</td>\n",
       "      <td>1/5/2016 17:45</td>\n",
       "      <td>Business</td>\n",
       "      <td>Fort Pierce</td>\n",
       "      <td>Fort Pierce</td>\n",
       "      <td>4.7</td>\n",
       "      <td>Meeting</td>\n",
       "    </tr>\n",
       "    <tr>\n",
       "      <th>4</th>\n",
       "      <td>1/6/2016 14:42</td>\n",
       "      <td>1/6/2016 15:49</td>\n",
       "      <td>Business</td>\n",
       "      <td>Fort Pierce</td>\n",
       "      <td>West Palm Beach</td>\n",
       "      <td>63.7</td>\n",
       "      <td>Customer Visit</td>\n",
       "    </tr>\n",
       "  </tbody>\n",
       "</table>\n",
       "</div>"
      ]
     },
     "execution_count": 3,
     "metadata": {},
     "output_type": "execute_result"
    }
   ],
   "execution_count": 3
  },
  {
   "metadata": {
    "ExecuteTime": {
     "end_time": "2025-08-01T12:02:39.428018Z",
     "start_time": "2025-08-01T12:02:39.415478Z"
    }
   },
   "cell_type": "code",
   "source": "uber_data.tail()",
   "id": "50d922a7fc9575e6",
   "outputs": [
    {
     "data": {
      "text/plain": [
       "           START_DATE*         END_DATE* CATEGORY*            START*             STOP*   MILES*        PURPOSE*\n",
       "1151  12/31/2016 13:24  12/31/2016 13:42  Business           Kar?chi  Unknown Location      3.9  Temporary Site\n",
       "1152  12/31/2016 15:03  12/31/2016 15:38  Business  Unknown Location  Unknown Location     16.2         Meeting\n",
       "1153  12/31/2016 21:32  12/31/2016 21:50  Business        Katunayake           Gampaha      6.4  Temporary Site\n",
       "1154  12/31/2016 22:08  12/31/2016 23:51  Business           Gampaha         Ilukwatta     48.2  Temporary Site\n",
       "1155            Totals               NaN       NaN               NaN               NaN  12204.7             NaN"
      ],
      "text/html": [
       "<div>\n",
       "<style scoped>\n",
       "    .dataframe tbody tr th:only-of-type {\n",
       "        vertical-align: middle;\n",
       "    }\n",
       "\n",
       "    .dataframe tbody tr th {\n",
       "        vertical-align: top;\n",
       "    }\n",
       "\n",
       "    .dataframe thead th {\n",
       "        text-align: right;\n",
       "    }\n",
       "</style>\n",
       "<table border=\"1\" class=\"dataframe\">\n",
       "  <thead>\n",
       "    <tr style=\"text-align: right;\">\n",
       "      <th></th>\n",
       "      <th>START_DATE*</th>\n",
       "      <th>END_DATE*</th>\n",
       "      <th>CATEGORY*</th>\n",
       "      <th>START*</th>\n",
       "      <th>STOP*</th>\n",
       "      <th>MILES*</th>\n",
       "      <th>PURPOSE*</th>\n",
       "    </tr>\n",
       "  </thead>\n",
       "  <tbody>\n",
       "    <tr>\n",
       "      <th>1151</th>\n",
       "      <td>12/31/2016 13:24</td>\n",
       "      <td>12/31/2016 13:42</td>\n",
       "      <td>Business</td>\n",
       "      <td>Kar?chi</td>\n",
       "      <td>Unknown Location</td>\n",
       "      <td>3.9</td>\n",
       "      <td>Temporary Site</td>\n",
       "    </tr>\n",
       "    <tr>\n",
       "      <th>1152</th>\n",
       "      <td>12/31/2016 15:03</td>\n",
       "      <td>12/31/2016 15:38</td>\n",
       "      <td>Business</td>\n",
       "      <td>Unknown Location</td>\n",
       "      <td>Unknown Location</td>\n",
       "      <td>16.2</td>\n",
       "      <td>Meeting</td>\n",
       "    </tr>\n",
       "    <tr>\n",
       "      <th>1153</th>\n",
       "      <td>12/31/2016 21:32</td>\n",
       "      <td>12/31/2016 21:50</td>\n",
       "      <td>Business</td>\n",
       "      <td>Katunayake</td>\n",
       "      <td>Gampaha</td>\n",
       "      <td>6.4</td>\n",
       "      <td>Temporary Site</td>\n",
       "    </tr>\n",
       "    <tr>\n",
       "      <th>1154</th>\n",
       "      <td>12/31/2016 22:08</td>\n",
       "      <td>12/31/2016 23:51</td>\n",
       "      <td>Business</td>\n",
       "      <td>Gampaha</td>\n",
       "      <td>Ilukwatta</td>\n",
       "      <td>48.2</td>\n",
       "      <td>Temporary Site</td>\n",
       "    </tr>\n",
       "    <tr>\n",
       "      <th>1155</th>\n",
       "      <td>Totals</td>\n",
       "      <td>NaN</td>\n",
       "      <td>NaN</td>\n",
       "      <td>NaN</td>\n",
       "      <td>NaN</td>\n",
       "      <td>12204.7</td>\n",
       "      <td>NaN</td>\n",
       "    </tr>\n",
       "  </tbody>\n",
       "</table>\n",
       "</div>"
      ]
     },
     "execution_count": 4,
     "metadata": {},
     "output_type": "execute_result"
    }
   ],
   "execution_count": 4
  },
  {
   "metadata": {},
   "cell_type": "markdown",
   "source": "Pozbywamy się niepotrzebnego ostatniego wiersza.",
   "id": "678642fc0607dfbb"
  },
  {
   "metadata": {
    "ExecuteTime": {
     "end_time": "2025-08-01T12:02:41.081907Z",
     "start_time": "2025-08-01T12:02:41.078502Z"
    }
   },
   "cell_type": "code",
   "source": "uber_data=uber_data[:-1]",
   "id": "f14e95e26593c466",
   "outputs": [],
   "execution_count": 5
  },
  {
   "metadata": {},
   "cell_type": "markdown",
   "source": "Formatujemy daty.",
   "id": "46810033f7a95f7b"
  },
  {
   "metadata": {
    "ExecuteTime": {
     "end_time": "2025-08-01T12:02:42.534766Z",
     "start_time": "2025-08-01T12:02:42.521797Z"
    }
   },
   "cell_type": "code",
   "source": [
    "uber_data['START_DATE*']=pd.to_datetime(\n",
    "    uber_data['START_DATE*'],\n",
    "    format='%m/%d/%Y %H:%M',\n",
    "    errors='coerce'\n",
    ")\n",
    "uber_data['END_DATE*']=pd.to_datetime(\n",
    "    uber_data['END_DATE*'],\n",
    "    format='%m/%d/%Y %H:%M',\n",
    "    errors='coerce'\n",
    ")\n"
   ],
   "id": "d09fa94d6003ae33",
   "outputs": [],
   "execution_count": 6
  },
  {
   "metadata": {},
   "cell_type": "markdown",
   "source": "Mozna zauważyc, że niektóre wiersze kolumn 'START' i 'STOP' zawierają znaki '?', po krótkiej analizie, stwierdzono, że znaki te można zastąpić literami 'a'. Wtedy wartości zgadzają się z nazwami miast. Warto także usunąć '*', z nazw kolumn.",
   "id": "e06629c5b1376f5d"
  },
  {
   "metadata": {
    "ExecuteTime": {
     "end_time": "2025-08-01T12:02:45.320302Z",
     "start_time": "2025-08-01T12:02:45.309187Z"
    }
   },
   "cell_type": "code",
   "source": [
    "uber_data=uber_data.rename(columns={\n",
    "    uber_data.columns[0]:'START_DATE',\n",
    "    uber_data.columns[1]:'END_DATE',\n",
    "    uber_data.columns[2]:'CATEGORY',\n",
    "    uber_data.columns[3]:'START',\n",
    "    uber_data.columns[4]:'STOP',\n",
    "    uber_data.columns[5]:'MILES',\n",
    "    uber_data.columns[6]:'PURPOSE',\n",
    "})\n",
    "uber_data['START']=uber_data['START'].replace({\"\\?\":\"a\"},regex=True)\n",
    "uber_data['START']=uber_data['START'].replace({\"\\?\":\"a\"},regex=True)"
   ],
   "id": "16ba532c3ae736f",
   "outputs": [],
   "execution_count": 7
  },
  {
   "metadata": {},
   "cell_type": "markdown",
   "source": "Można zwizualizować cele podróży dla lepszej analizy.",
   "id": "cc08abc23fb10ad9"
  },
  {
   "metadata": {
    "ExecuteTime": {
     "end_time": "2025-08-01T12:02:47.308218Z",
     "start_time": "2025-08-01T12:02:47.161638Z"
    }
   },
   "cell_type": "code",
   "outputs": [
    {
     "data": {
      "text/plain": [
       "<Axes: xlabel='count', ylabel='PURPOSE'>"
      ]
     },
     "execution_count": 8,
     "metadata": {},
     "output_type": "execute_result"
    },
    {
     "data": {
      "text/plain": [
       "<Figure size 640x480 with 1 Axes>"
      ],
      "image/png": "[encoded data removed]"
     },
     "metadata": {},
     "output_type": "display_data"
    }
   ],
   "execution_count": 8,
   "source": "sns.countplot(y='PURPOSE',data=uber_data, order=uber_data['PURPOSE'].value_counts().index)",
   "id": "40a92260e65f9fb"
  },
  {
   "metadata": {},
   "cell_type": "markdown",
   "source": "Jak można zauważyć większość podróży związana jest z różnymi spotkaniami, a także z wykonywaniem różnych zadań/dostaw. Można spekulować, że większość podróży będzie zaliczona do kategorii biznesowej.",
   "id": "af7e20a4521b4d98"
  },
  {
   "metadata": {
    "ExecuteTime": {
     "end_time": "2025-08-01T12:03:23.843333Z",
     "start_time": "2025-08-01T12:03:23.711578Z"
    }
   },
   "cell_type": "code",
   "source": "sns.countplot(y='CATEGORY',data=uber_data)",
   "id": "95ed6626bd05dc66",
   "outputs": [
    {
     "data": {
      "text/plain": [
       "<Axes: xlabel='count', ylabel='CATEGORY'>"
      ]
     },
     "execution_count": 9,
     "metadata": {},
     "output_type": "execute_result"
    },
    {
     "data": {
      "text/plain": [
       "<Figure size 640x480 with 1 Axes>"
      ],
      "image/png": "[encoded data removed]"
     },
     "metadata": {},
     "output_type": "display_data"
    }
   ],
   "execution_count": 9
  },
  {
   "metadata": {},
   "cell_type": "markdown",
   "source": "Jak widać przewidywania są zgodne, przeważająca część przejazdów była w celach biznesowych. Nawet pomimo, że drugi najczęściej występujący powód przejazdu to rozrywka/posiłek to i tak rzadko był w celach prywatnych, możę to nam sugerować, że użytkownik pracuje w branży, która nastawiona jest na częste spotkania z klientami.",
   "id": "2e8d61c51e1ce662"
  },
  {
   "metadata": {
    "ExecuteTime": {
     "end_time": "2025-08-01T12:03:25.821098Z",
     "start_time": "2025-08-01T12:03:25.645732Z"
    }
   },
   "cell_type": "code",
   "source": "uber_data['START_DATE'].dt.hour.value_counts().plot(kind='bar',xlabel='godziny',ylabel='Liczba Wystąpien')",
   "id": "47766cd5a11d8f76",
   "outputs": [
    {
     "data": {
      "text/plain": [
       "<Axes: xlabel='godziny', ylabel='Liczba Wystąpien'>"
      ]
     },
     "execution_count": 10,
     "metadata": {},
     "output_type": "execute_result"
    },
    {
     "data": {
      "text/plain": [
       "<Figure size 640x480 with 1 Axes>"
      ],
      "image/png": "[encoded data removed]"
     },
     "metadata": {},
     "output_type": "display_data"
    }
   ],
   "execution_count": 10
  },
  {
   "metadata": {},
   "cell_type": "markdown",
   "source": "Jak widać większość podróży odbywa się w godzinach lunchowych/wczesno kolacyjnych, gdzie wtedy klient może być jeszcze w pracy. Potwierdza to nasze spekulacje co do rodzaju grona do jakiego należy użytkownik .",
   "id": "555701da7f9b3e5c"
  },
  {
   "metadata": {
    "ExecuteTime": {
     "end_time": "2025-08-01T12:03:27.945788Z",
     "start_time": "2025-08-01T12:03:27.767317Z"
    }
   },
   "cell_type": "code",
   "source": [
    "\n",
    "start_count=uber_data['START'].value_counts().nlargest(5)\n",
    "stop_count=uber_data['STOP'].value_counts().nlargest(5)\n",
    "\n",
    "all_count=pd.Index(start_count.index).union(stop_count.index)\n",
    "all_df=pd.DataFrame({\n",
    "    'START': start_count,\n",
    "    'STOP': stop_count,\n",
    "},index=all_count).fillna(0)\n",
    "all_df=all_df.drop('Unknown Location')\n",
    "print(all_df.head())\n",
    "\n",
    "\n",
    "all_df.plot(kind='bar',width=0.8)\n",
    "plt.xlabel('Miasto')\n",
    "plt.ylabel('Liczba Wystąpien')\n",
    "plt.title('Wystapienia Miast')\n",
    "plt.xticks(rotation=45)\n",
    "plt.tight_layout()\n",
    "\n"
   ],
   "id": "1833dc3bf4300885",
   "outputs": [
    {
     "name": "stdout",
     "output_type": "stream",
     "text": [
      "             START  STOP\n",
      "Cary           201   203\n",
      "Morrisville     85    84\n",
      "Whitebridge     68    65\n",
      "Islamabad       57    58\n"
     ]
    },
    {
     "data": {
      "text/plain": [
       "<Figure size 640x480 with 1 Axes>"
      ],
      "image/png": "[encoded data removed]"
     },
     "metadata": {},
     "output_type": "display_data"
    }
   ],
   "execution_count": 11
  },
  {
   "metadata": {},
   "cell_type": "markdown",
   "source": "Możemy zalożyc, że osoba korzystająca z aplikacji Uber, mieszka bądź pracuje w miejscowości 'Cary'.",
   "id": "a65b43a27dbb7d3d"
  },
  {
   "metadata": {},
   "cell_type": "markdown",
   "source": "Jak widać, z pozornie podstawowych i nic nie pokazujących danych, można wywnioskować dużo informacji o kliencie. Może to pomóc w analizie zachowań użytkownika by następnie rekomendować mu lepsze treści, dopasowanie pod niego.",
   "id": "8099a5611ae37b93"
  }
 ],
 "metadata": {
  "kernelspec": {
   "display_name": "Python 3",
   "language": "python",
   "name": "python3"
  },
  "language_info": {
   "codemirror_mode": {
    "name": "ipython",
    "version": 2
   },
   "file_extension": ".py",
   "mimetype": "text/x-python",
   "name": "python",
   "nbconvert_exporter": "python",
   "pygments_lexer": "ipython2",
   "version": "2.7.6"
  }
 },
 "nbformat": 4,
 "nbformat_minor": 5
}
